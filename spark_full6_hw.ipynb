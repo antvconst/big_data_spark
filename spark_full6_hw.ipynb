{
 "cells": [
  {
   "cell_type": "code",
   "execution_count": 1,
   "metadata": {},
   "outputs": [
    {
     "name": "stdout",
     "output_type": "stream",
     "text": [
      "Collecting emoji\n",
      "  Downloading emoji-0.5.4.tar.gz (43 kB)\n",
      "\u001b[K     |████████████████████████████████| 43 kB 229 kB/s eta 0:00:01\n",
      "\u001b[?25hBuilding wheels for collected packages: emoji\n",
      "  Building wheel for emoji (setup.py) ... \u001b[?25ldone\n",
      "\u001b[?25h  Created wheel for emoji: filename=emoji-0.5.4-py3-none-any.whl size=42175 sha256=7285c89033807bd5902b790c19c8c6b0aef32d6edb5f71472aa66a75ad897241\n",
      "  Stored in directory: /home/jovyan/.cache/pip/wheels/f6/65/82/d742fe456cd8aa21ffe6c4c1eaeedf3c2d430689811bf328e1\n",
      "Successfully built emoji\n",
      "Installing collected packages: emoji\n",
      "Successfully installed emoji-0.5.4\n"
     ]
    }
   ],
   "source": [
    "!pip install emoji # install package to extract emoji"
   ]
  },
  {
   "cell_type": "code",
   "execution_count": 2,
   "metadata": {},
   "outputs": [],
   "source": [
    "import pyspark\n",
    "from pyspark.sql import *\n",
    "from pyspark.sql.functions import *\n",
    "import emoji"
   ]
  },
  {
   "cell_type": "code",
   "execution_count": 3,
   "metadata": {},
   "outputs": [],
   "source": [
    "# Create in-memory Spark session\n",
    "spark = SparkSession. \\\n",
    "            builder. \\\n",
    "            master(\"local[*]\"). \\\n",
    "            getOrCreate()"
   ]
  },
  {
   "cell_type": "markdown",
   "metadata": {},
   "source": [
    "## 1.  Display the top 20 liked, commented, reposted posts by number (for all datasets with posts)"
   ]
  },
  {
   "cell_type": "markdown",
   "metadata": {},
   "source": [
    "### Queries"
   ]
  },
  {
   "cell_type": "code",
   "execution_count": 4,
   "metadata": {},
   "outputs": [],
   "source": [
    "posts_api_df = spark.read.json(\"bigdata20/posts_api.json\")\n",
    "followers_posts_api_df = spark.read.json(\"bigdata20/followers_posts_api_final.json\")\n",
    "\n",
    "top_likes = posts_api_df.orderBy(posts_api_df.likes.count.desc()).limit(20)\n",
    "top_comments = posts_api_df.orderBy(posts_api_df.comments.count.desc()).limit(20)\n",
    "top_reposts = posts_api_df.orderBy(posts_api_df.reposts.count.desc()).limit(20)\n",
    "\n",
    "followers_top_likes = followers_posts_api_df.orderBy(followers_posts_api_df.likes.count.desc()).limit(20)\n",
    "followers_top_comments = followers_posts_api_df.orderBy(followers_posts_api_df.comments.count.desc()).limit(20)\n",
    "followers_top_reposts = followers_posts_api_df.orderBy(followers_posts_api_df.reposts.count.desc()).limit(20)"
   ]
  },
  {
   "cell_type": "markdown",
   "metadata": {},
   "source": [
    "### Most liked"
   ]
  },
  {
   "cell_type": "code",
   "execution_count": 5,
   "metadata": {},
   "outputs": [
    {
     "name": "stdout",
     "output_type": "stream",
     "text": [
      "+--------------------+-----+\n",
      "|                text|count|\n",
      "+--------------------+-----+\n",
      "|Стесняешься петь ...| 1637|\n",
      "|У нас для вас две...| 1629|\n",
      "|Настали снежные х...| 1516|\n",
      "|[Пригласи друзей ...| 1026|\n",
      "|Ура! Нас 20 000! ...|  955|\n",
      "|Добро пожаловать ...|  952|\n",
      "|[Университет ИТМО...|  868|\n",
      "|Я ПОСТУПИЛ В УНИВ...|  824|\n",
      "|WE ARE THE CHAMPI...|  786|\n",
      "|Студенты, сегодня...|  765|\n",
      "|Ура! Кубок ICPC с...|  759|\n",
      "|ITMO.GO! Я поступ...|  708|\n",
      "|Команда студентов...|  633|\n",
      "|Хочешь поздравить...|  631|\n",
      "|К концу года мы д...|  588|\n",
      "|#ExamsAreComing #...|  581|\n",
      "|[Я участвую в вел...|  553|\n",
      "|[Билет на GEEK PI...|  552|\n",
      "|А вы хотите на Ge...|  550|\n",
      "|Начало конкурса М...|  549|\n",
      "+--------------------+-----+\n",
      "\n"
     ]
    }
   ],
   "source": [
    "top_likes.select('text', 'likes.count').show()"
   ]
  },
  {
   "cell_type": "code",
   "execution_count": 6,
   "metadata": {},
   "outputs": [
    {
     "name": "stdout",
     "output_type": "stream",
     "text": [
      "+--------------------+-----+\n",
      "|                text|count|\n",
      "+--------------------+-----+\n",
      "|Лайкнувшим отправ...| 3271|\n",
      "|                    | 2745|\n",
      "|Любовь долготерпи...| 2505|\n",
      "|                    | 2457|\n",
      "|                    | 2194|\n",
      "|                    | 2160|\n",
      "|                    | 2148|\n",
      "|                    | 2145|\n",
      "|                    | 2099|\n",
      "|лайк кого пролайк...| 2092|\n",
      "|                    | 2000|\n",
      "|                    | 1968|\n",
      "|лайк кого пролайк...| 1914|\n",
      "|                    | 1776|\n",
      "|                    | 1739|\n",
      "|                🙈🙉| 1665|\n",
      "|Нашли корги. Бега...| 1593|\n",
      "|                    | 1574|\n",
      "|                    | 1517|\n",
      "|🔥 НОВИНКА / [clu...| 1515|\n",
      "+--------------------+-----+\n",
      "\n"
     ]
    }
   ],
   "source": [
    "followers_top_likes.select('text', 'likes.count').show()"
   ]
  },
  {
   "cell_type": "markdown",
   "metadata": {},
   "source": [
    "### Most commented"
   ]
  },
  {
   "cell_type": "code",
   "execution_count": 7,
   "metadata": {},
   "outputs": [
    {
     "name": "stdout",
     "output_type": "stream",
     "text": [
      "+--------------------+-----+\n",
      "|                text|count|\n",
      "+--------------------+-----+\n",
      "|Студенты, сегодня...|  765|\n",
      "|Друзья, а давайте...|  212|\n",
      "|Upd: розыгрыш зав...|   23|\n",
      "|Все знают, что в ...|    5|\n",
      "|18 мая состоится ...|  197|\n",
      "|15 российских вуз...|  114|\n",
      "|Информация по ава...|  231|\n",
      "|ОФИЦИАЛЬНО: СЕССИ...|   43|\n",
      "|ДОБРО ПОЖАЛОВАТЬ ...|   71|\n",
      "|Дорогие абитуриен...|   12|\n",
      "|Уважаемые студент...|    9|\n",
      "|Внимание! Розыгры...|  101|\n",
      "|Science Valentine...|   35|\n",
      "|Информация по ава...|  152|\n",
      "|                    |    4|\n",
      "|Роботы пишут стих...|   12|\n",
      "|Опубликованы прик...|   23|\n",
      "|Пришла пора узнат...|   41|\n",
      "|Придумай название...|   16|\n",
      "|В рамках реализац...|   37|\n",
      "+--------------------+-----+\n",
      "\n"
     ]
    }
   ],
   "source": [
    "top_comments.select('text', 'likes.count').show()"
   ]
  },
  {
   "cell_type": "code",
   "execution_count": 8,
   "metadata": {},
   "outputs": [
    {
     "name": "stdout",
     "output_type": "stream",
     "text": [
      "+--------------------+-----+\n",
      "|                text|count|\n",
      "+--------------------+-----+\n",
      "|   Гости у bera vine|  163|\n",
      "|                Live|  227|\n",
      "|       Погнали💥💥💥|  231|\n",
      "|          Звоночки💥|  135|\n",
      "|Ребят,как и говор...|  176|\n",
      "|   Всем приветик💋🖤|  384|\n",
      "|           Погнали☄️|  177|\n",
      "| Сегодня будет мощно|  194|\n",
      "|В конце будут сиг...|  300|\n",
      "|Bera vine в сборе...|  191|\n",
      "|      Полетели🔥🔥🔥|  171|\n",
      "|Готовим,розыгрыва...|  272|\n",
      "|Идем искать и кор...|  162|\n",
      "|Красим т.Валю с К...|  244|\n",
      "|                Live|  254|\n",
      "|        Звонки💥💥💥|  117|\n",
      "|Звоним по номерам...|  128|\n",
      "|                Live|  174|\n",
      "|ВСЕМ ПРИВЕТ,ГОТОВ...|  281|\n",
      "|           Встречины|  172|\n",
      "+--------------------+-----+\n",
      "\n"
     ]
    }
   ],
   "source": [
    "followers_top_comments.select('text', 'likes.count').show()"
   ]
  },
  {
   "cell_type": "markdown",
   "metadata": {},
   "source": [
    "### Most reposted"
   ]
  },
  {
   "cell_type": "code",
   "execution_count": 9,
   "metadata": {},
   "outputs": [
    {
     "name": "stdout",
     "output_type": "stream",
     "text": [
      "+--------------------+-----+\n",
      "|                text|count|\n",
      "+--------------------+-----+\n",
      "|Настали снежные х...| 1516|\n",
      "|Ура! Нас 20 000! ...|  955|\n",
      "|Стесняешься петь ...| 1637|\n",
      "|8 октября пропал ...|  197|\n",
      "|[Университет ИТМО...|  868|\n",
      "|Команда студентов...|  633|\n",
      "|#ExamsAreComing #...|  581|\n",
      "|У нас для вас две...| 1629|\n",
      "|В преддверии выпу...|  433|\n",
      "|Подарок всем студ...|  483|\n",
      "|Я ПОСТУПИЛ В УНИВ...|  824|\n",
      "|Добро пожаловать ...|  952|\n",
      "|Начало конкурса М...|  549|\n",
      "|[Билет на GEEK PI...|  552|\n",
      "|🎄Выходные дни в ...|   92|\n",
      "|МЫ СНОВА АБСОЛЮТН...|  491|\n",
      "|[TechTrends Expo ...|  227|\n",
      "|[Выходные дни в н...|   97|\n",
      "|[Выиграй билеты н...|  160|\n",
      "|Лето. Жара. Петер...|  369|\n",
      "+--------------------+-----+\n",
      "\n"
     ]
    }
   ],
   "source": [
    "top_reposts.select('text', 'likes.count').show()"
   ]
  },
  {
   "cell_type": "code",
   "execution_count": 10,
   "metadata": {},
   "outputs": [
    {
     "name": "stdout",
     "output_type": "stream",
     "text": [
      "+--------------------+-----+\n",
      "|                text|count|\n",
      "+--------------------+-----+\n",
      "|Нашли корги. Бега...| 1593|\n",
      "|🔥 НОВИНКА / [clu...| 1515|\n",
      "|Инновационная сис...| 1176|\n",
      "|УВЕДОМЛЕНИЕ в рас...|  411|\n",
      "|От 20$ в день из ...|  318|\n",
      "|Ты знаешь чего я ...|  484|\n",
      "|Зоя Звиняцковская...| 1272|\n",
      "|ОРЗЕГА! МАЙГУБА! ...|  324|\n",
      "|                    |  272|\n",
      "|                    |  267|\n",
      "|Любовь долготерпи...| 2505|\n",
      "|Дорогие все. У ме...| 1273|\n",
      "|[club74902570|Mor...|  204|\n",
      "|#лучшиепредставит...|  312|\n",
      "|Многие ждали этог...|  668|\n",
      "|#лучшиепредставит...|  257|\n",
      "|Привет биологам! ...|  390|\n",
      "|Друзья, вышло про...|  136|\n",
      "|‼SOS‼СРОЧНО‼SOS‼\n",
      "...|  101|\n",
      "|#лучшиепредставит...|  243|\n",
      "+--------------------+-----+\n",
      "\n"
     ]
    }
   ],
   "source": [
    "followers_top_reposts.select('text', 'likes.count').show()"
   ]
  },
  {
   "cell_type": "markdown",
   "metadata": {},
   "source": [
    "## 2. Display the top 20 users by likes and reposts made (for reposts use \"copy_history\", from the subset posts"
   ]
  },
  {
   "cell_type": "markdown",
   "metadata": {},
   "source": [
    "### Queries"
   ]
  },
  {
   "cell_type": "code",
   "execution_count": 11,
   "metadata": {},
   "outputs": [],
   "source": [
    "posts_likes = spark.read.parquet('bigdata20/posts_likes.parquet')\n",
    "\n",
    "top_likers = posts_likes.groupBy('likerId').count().sort(desc('count')).limit(20)\n",
    "top_reposters = posts_api_df.select(explode(posts_api_df.copy_history).alias('repost')). \\\n",
    "    select(\"repost.owner_id\"). \\\n",
    "    groupBy(\"owner_id\"). \\\n",
    "    count(). \\\n",
    "    orderBy(desc('count')). \\\n",
    "    limit(20)"
   ]
  },
  {
   "cell_type": "markdown",
   "metadata": {},
   "source": [
    "### Top likers"
   ]
  },
  {
   "cell_type": "code",
   "execution_count": 12,
   "metadata": {},
   "outputs": [
    {
     "name": "stdout",
     "output_type": "stream",
     "text": [
      "+---------+-----+\n",
      "|  likerId|count|\n",
      "+---------+-----+\n",
      "|  2070090| 4801|\n",
      "|  2397858| 2055|\n",
      "|  1475301| 1829|\n",
      "|    18239| 1569|\n",
      "|   546612| 1245|\n",
      "|     6371|  907|\n",
      "|  1841959|  746|\n",
      "| 78440957|  709|\n",
      "|   120248|  699|\n",
      "| 40981497|  611|\n",
      "|    22158|  553|\n",
      "|207628162|  548|\n",
      "|329377723|  504|\n",
      "| 76071304|  474|\n",
      "| 14805173|  440|\n",
      "|   317799|  385|\n",
      "| 56355640|  375|\n",
      "| 52042971|  338|\n",
      "|  7437271|  336|\n",
      "|136506644|  335|\n",
      "+---------+-----+\n",
      "\n"
     ]
    }
   ],
   "source": [
    "top_likers.show()"
   ]
  },
  {
   "cell_type": "markdown",
   "metadata": {},
   "source": [
    "### Top reposters"
   ]
  },
  {
   "cell_type": "code",
   "execution_count": 13,
   "metadata": {},
   "outputs": [
    {
     "name": "stdout",
     "output_type": "stream",
     "text": [
      "+----------+-----+\n",
      "|  owner_id|count|\n",
      "+----------+-----+\n",
      "|    -33773|  186|\n",
      "| -76139618|  144|\n",
      "| -45636106|   95|\n",
      "| -53958282|   70|\n",
      "| -45660640|   52|\n",
      "| -97819925|   46|\n",
      "|  -2499902|   44|\n",
      "|-103229636|   28|\n",
      "| -94359346|   26|\n",
      "| -51664920|   24|\n",
      "| -46907025|   23|\n",
      "|-122783310|   22|\n",
      "| -78459300|   21|\n",
      "|     18239|   20|\n",
      "| -57339370|   18|\n",
      "| -45375087|   17|\n",
      "| -39268951|   16|\n",
      "|   -644236|   16|\n",
      "| -23303030|   16|\n",
      "|  -3900734|   14|\n",
      "+----------+-----+\n",
      "\n"
     ]
    }
   ],
   "source": [
    "top_reposters.show()"
   ]
  },
  {
   "cell_type": "markdown",
   "metadata": {},
   "source": [
    "## 3. Get reposts of the original posts of the itmo group (posts.json) from user posts (the result should be similar to (group_post_id, Array (user_post_ids)))"
   ]
  },
  {
   "cell_type": "code",
   "execution_count": 14,
   "metadata": {},
   "outputs": [
    {
     "name": "stdout",
     "output_type": "stream",
     "text": [
      "+-------------+--------------------+\n",
      "|group_post_id|       user_post_ids|\n",
      "+-------------+--------------------+\n",
      "|        41424|   [6941, 4125, 529]|\n",
      "|        39407|        [3536, 9214]|\n",
      "|        42388|             [11053]|\n",
      "|        39719|              [1160]|\n",
      "|        40011| [4770, 2559, 19267]|\n",
      "|        38963|[4868, 3720, 393,...|\n",
      "|        39259|[14840, 10683, 35...|\n",
      "|        40084|               [536]|\n",
      "|        41506|[12823, 135, 670,...|\n",
      "|        42009|         [1509, 120]|\n",
      "|        38857|              [2618]|\n",
      "|        38854|              [2613]|\n",
      "|        40521|                 [7]|\n",
      "|        40996|             [10476]|\n",
      "|        39082|              [3559]|\n",
      "|        42691|              [5667]|\n",
      "|        38754|             [10318]|\n",
      "|        41039|             [10531]|\n",
      "|        38818|              [9664]|\n",
      "|        41402|      [212, 55, 405]|\n",
      "+-------------+--------------------+\n",
      "only showing top 20 rows\n",
      "\n"
     ]
    }
   ],
   "source": [
    "followers_posts_api_df. \\\n",
    "    select(explode(\"copy_history\").alias(\"post\"), \"owner_id\", \"id\"). \\\n",
    "    withColumnRenamed(\"id\", \"reposter_id\"). \\\n",
    "    filter(\"post.owner_id == -94\"). \\\n",
    "    select(\"post.id\", \"owner_id\", \"reposter_id\"). \\\n",
    "    withColumnRenamed(\"id\", \"group_post_id\"). \\\n",
    "    groupBy(\"group_post_id\").agg(collect_list(\"reposter_id\").alias(\"user_post_ids\")). \\\n",
    "    show(20)"
   ]
  },
  {
   "cell_type": "markdown",
   "metadata": {},
   "source": [
    "## 4. Find emoticons in posts and post comments (negative, positive, neutral) (you can use external libraries or predefined emoticon lists) (use the spark udf and broadcast function for emoticons)"
   ]
  },
  {
   "cell_type": "code",
   "execution_count": 15,
   "metadata": {},
   "outputs": [],
   "source": [
    "@udf('string')\n",
    "def extract_emoji(text):\n",
    "    if text is None:\n",
    "        return None\n",
    "    text = ''.join(c for c in text if c in emoji.UNICODE_EMOJI)\n",
    "    if len(text) == 0:\n",
    "        return None\n",
    "    return text"
   ]
  },
  {
   "cell_type": "code",
   "execution_count": 16,
   "metadata": {},
   "outputs": [
    {
     "name": "stdout",
     "output_type": "stream",
     "text": [
      "+-----+\n",
      "|emoji|\n",
      "+-----+\n",
      "| 🎄🎄|\n",
      "|   📸|\n",
      "|    ⚡|\n",
      "|   🚀|\n",
      "|   🔮|\n",
      "|   🚀|\n",
      "|   🏕|\n",
      "|   💫|\n",
      "|    ♥|\n",
      "|   🔥|\n",
      "|   🚀|\n",
      "|   🔥|\n",
      "| 🚲🧡|\n",
      "|   💙|\n",
      "|   💙|\n",
      "|   📸|\n",
      "|    ❤|\n",
      "|   🎤|\n",
      "|    ☀|\n",
      "|    ❤|\n",
      "+-----+\n",
      "only showing top 20 rows\n",
      "\n"
     ]
    }
   ],
   "source": [
    "t = posts_api_df. \\\n",
    "    select(extract_emoji(\"text\").alias('emoji')). \\\n",
    "    where(col('emoji').isNotNull()). \\\n",
    "    show(20)"
   ]
  },
  {
   "cell_type": "markdown",
   "metadata": {},
   "source": [
    "## 5. Find friends. The idea is, if users like each other posts, then they are friends."
   ]
  },
  {
   "cell_type": "code",
   "execution_count": 17,
   "metadata": {},
   "outputs": [],
   "source": [
    "followers_posts_likes_df = spark.read.parquet('bigdata20/followers_posts_likes.parquet'). \\\n",
    "    select('ownerId', 'likerId')\n",
    "likes_df = followers_posts_likes_df. \\\n",
    "    groupBy('ownerId', 'likerId').count()\n",
    "\n",
    "left = likes_df.alias('A').select(\n",
    "    col('ownerId').alias('user_1_forward'),\n",
    "    col('likerId').alias('user_2_forward'),\n",
    "    col('count').alias('count_forward')\n",
    ")\n",
    "\n",
    "right = likes_df.alias('B').select(\n",
    "    col('ownerId').alias('user_1_backward'),\n",
    "    col('likerId').alias('user_2_backward'),\n",
    "    col('count').alias('count_backward')\n",
    ")\n",
    "\n",
    "mutual_likes = left.join(right,\n",
    "          (col('user_1_forward') == col('user_2_backward')) & \\\n",
    "          (col('user_2_forward') == col('user_1_backward'))). \\\n",
    "    select(\n",
    "        col('user_1_forward').alias('user_1'),\n",
    "        col('user_2_forward').alias('user_2'),\n",
    "        'count_forward', 'count_backward'\n",
    "    )"
   ]
  },
  {
   "cell_type": "code",
   "execution_count": 18,
   "metadata": {},
   "outputs": [
    {
     "name": "stdout",
     "output_type": "stream",
     "text": [
      "+---------+---------+-------------+--------------+\n",
      "|   user_1|   user_2|count_forward|count_backward|\n",
      "+---------+---------+-------------+--------------+\n",
      "| 16535351| 16535351|           17|            17|\n",
      "|151800267|151800267|           18|            18|\n",
      "|  2676778|  2676778|           38|            38|\n",
      "|179074737|179074737|           13|            13|\n",
      "| 18257111| 18257111|          119|           119|\n",
      "|147469597|147469597|           12|            12|\n",
      "|  4686077|  4686077|           60|            60|\n",
      "|307171205|307171205|          312|           312|\n",
      "|399678512|399678512|           14|            14|\n",
      "|377117821|377117821|          114|           114|\n",
      "| 37259038| 37259038|          313|           313|\n",
      "| 37127521| 37127521|           53|            53|\n",
      "| 70359966| 70359966|           23|            23|\n",
      "|  4403478|  4403478|           27|            27|\n",
      "|179270929|179270929|           14|            14|\n",
      "|174326837|174326837|           15|            15|\n",
      "|357674986|357674986|           73|            73|\n",
      "|514029118|514029118|           19|            19|\n",
      "|  4764671|  4764671|           39|            39|\n",
      "|491240245|491240245|           92|            92|\n",
      "+---------+---------+-------------+--------------+\n",
      "only showing top 20 rows\n",
      "\n"
     ]
    }
   ],
   "source": [
    "# we will define friends to be users who liked each other at least 10 times\n",
    "mutual_likes. \\\n",
    "    where('(count_forward > 10) and (count_backward > 10)'). \\\n",
    "    show()"
   ]
  },
  {
   "cell_type": "markdown",
   "metadata": {},
   "source": [
    "## 6. Find fans/lovers. The idea is, if the user likes another posts, and its is not mutual, then the first fan/lover."
   ]
  },
  {
   "cell_type": "code",
   "execution_count": 19,
   "metadata": {},
   "outputs": [
    {
     "name": "stdout",
     "output_type": "stream",
     "text": [
      "+---------+---------+-------------+--------------+\n",
      "|     user|      fan|count_forward|count_backward|\n",
      "+---------+---------+-------------+--------------+\n",
      "|135521397|199876565|            1|            14|\n",
      "|    58440|    45781|            4|            47|\n",
      "|157272120|  1077823|            1|            15|\n",
      "|146806953| 31828654|            1|            19|\n",
      "| 44696067|   644750|            1|            13|\n",
      "|  8496525|   246481|            1|            13|\n",
      "|441534917|121608397|            3|            57|\n",
      "| 28352713|137809153|            1|            15|\n",
      "|229468754|184076558|            1|            23|\n",
      "|  1709307|159733557|            1|            17|\n",
      "|255812857| 39660732|            1|            16|\n",
      "|449638423|103229751|            1|            12|\n",
      "| 52826268|    75791|            1|            11|\n",
      "|   460957|   715211|            2|            53|\n",
      "| 14728710| 47122493|            1|            11|\n",
      "|512229422|513762481|            1|            13|\n",
      "| 53007069| 20095006|            1|            12|\n",
      "| 19013041| 30833356|            3|            32|\n",
      "|    57363|   938845|            1|            18|\n",
      "|   691364|    15221|            2|            29|\n",
      "+---------+---------+-------------+--------------+\n",
      "only showing top 20 rows\n",
      "\n"
     ]
    }
   ],
   "source": [
    "# A is a fan of B if likes(A -> B) > 10 * likes(B -> A) \n",
    "mutual_likes. \\\n",
    "    where('10*count_forward < count_backward'). \\\n",
    "    select(col('user_1').alias('user'),\n",
    "           col('user_2').alias('fan'),\n",
    "           'count_forward', 'count_backward'). \\\n",
    "    show()"
   ]
  }
 ],
 "metadata": {
  "kernelspec": {
   "display_name": "Python 3",
   "language": "python",
   "name": "python3"
  },
  "language_info": {
   "codemirror_mode": {
    "name": "ipython",
    "version": 3
   },
   "file_extension": ".py",
   "mimetype": "text/x-python",
   "name": "python",
   "nbconvert_exporter": "python",
   "pygments_lexer": "ipython3",
   "version": "3.7.6"
  }
 },
 "nbformat": 4,
 "nbformat_minor": 4
}
